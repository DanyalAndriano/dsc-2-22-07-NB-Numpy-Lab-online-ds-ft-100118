{
 "cells": [
  {
   "cell_type": "markdown",
   "metadata": {
    "_cell_guid": "d7769986-fbcb-4071-924c-7a2a72695249",
    "_uuid": "ef6ff3f3b6befe5eabe9a36d5c33a06a2360c14a"
   },
   "source": [
    "# Naive Bayes Classifier in Numpy - Lab\n",
    "\n",
    "## Introduction\n",
    "Naive Bayes classifiers are a **family of probabilistic classifiers** based on Bayes' theorem, with an assumption that each feature is independent from one another. Previously we looked at the learning mechanism of this classifier in terms of maximizing the posterior probability. In this lab we shall learn to code a **Gaussian Naive Bayes Classifier** from scratch , and also learn to use scikitlearn library for this task.   \n",
    "\n",
    "## Objectives\n",
    "\n",
    "You will be able to:\n",
    "\n",
    "- Build a Naive Bayes Classifier in Python and Numpy to make predictions on unseen data "
   ]
  },
  {
   "cell_type": "markdown",
   "metadata": {
    "_cell_guid": "1d62ae85-ce96-4c41-8dcd-88c3e51c503f",
    "_uuid": "aaecbfc8786cfe8eaf009da2caa330d8d9aeed9b"
   },
   "source": [
    "## Building a Gaussian NB Classifier\n",
    "\n",
    "Below we shall attempt to build a naive Bayes classifier in using numpy calculations only. Python offers sophisticated implementations of this algorithm in SciKitLearn which we shall look at in the following lesson. Here we will use the equations we have learned so far, and put them into action for a very simple example. "
   ]
  },
  {
   "cell_type": "markdown",
   "metadata": {
    "_cell_guid": "8d1cb8b6-7584-4b52-baa8-2769f12d6baf",
    "_uuid": "8158fe74f951905248d342dc5dc0fdd566d161b4"
   },
   "source": [
    "## Problem:  Gender Classification \n",
    "\n",
    "Let's work with a small toy-data with continuous features (height, weight, foot size) and a target variable (Person: male or a female). We would work on building a classifier that can learn the joint probability of data and the target variables and classify a new example as a male of female. \n",
    "\n",
    "Note : You may also use a multinomial distribution for footsize (categrocial). Let's just assume they are all continuous for now.\n",
    "\n",
    "### Read the data `gender.csv` into Pandas data frame and inspect its content. "
   ]
  },
  {
   "cell_type": "code",
   "execution_count": 1,
   "metadata": {
    "_cell_guid": "32ee66ec-b64e-44ce-adca-2e587f073c37",
    "_uuid": "bd1d9a7ff1e06f5669dcd64ce96c95294e66c418",
    "scrolled": true
   },
   "outputs": [
    {
     "data": {
      "text/html": [
       "<div>\n",
       "<style scoped>\n",
       "    .dataframe tbody tr th:only-of-type {\n",
       "        vertical-align: middle;\n",
       "    }\n",
       "\n",
       "    .dataframe tbody tr th {\n",
       "        vertical-align: top;\n",
       "    }\n",
       "\n",
       "    .dataframe thead th {\n",
       "        text-align: right;\n",
       "    }\n",
       "</style>\n",
       "<table border=\"1\" class=\"dataframe\">\n",
       "  <thead>\n",
       "    <tr style=\"text-align: right;\">\n",
       "      <th></th>\n",
       "      <th>Person</th>\n",
       "      <th>height</th>\n",
       "      <th>weight</th>\n",
       "      <th>foot size</th>\n",
       "    </tr>\n",
       "  </thead>\n",
       "  <tbody>\n",
       "    <tr>\n",
       "      <th>0</th>\n",
       "      <td>male</td>\n",
       "      <td>6.00</td>\n",
       "      <td>180</td>\n",
       "      <td>12</td>\n",
       "    </tr>\n",
       "    <tr>\n",
       "      <th>1</th>\n",
       "      <td>male</td>\n",
       "      <td>5.92</td>\n",
       "      <td>190</td>\n",
       "      <td>11</td>\n",
       "    </tr>\n",
       "    <tr>\n",
       "      <th>2</th>\n",
       "      <td>male</td>\n",
       "      <td>5.58</td>\n",
       "      <td>170</td>\n",
       "      <td>12</td>\n",
       "    </tr>\n",
       "    <tr>\n",
       "      <th>3</th>\n",
       "      <td>male</td>\n",
       "      <td>5.92</td>\n",
       "      <td>165</td>\n",
       "      <td>10</td>\n",
       "    </tr>\n",
       "    <tr>\n",
       "      <th>4</th>\n",
       "      <td>female</td>\n",
       "      <td>5.00</td>\n",
       "      <td>100</td>\n",
       "      <td>6</td>\n",
       "    </tr>\n",
       "    <tr>\n",
       "      <th>5</th>\n",
       "      <td>female</td>\n",
       "      <td>5.50</td>\n",
       "      <td>150</td>\n",
       "      <td>8</td>\n",
       "    </tr>\n",
       "    <tr>\n",
       "      <th>6</th>\n",
       "      <td>female</td>\n",
       "      <td>5.42</td>\n",
       "      <td>130</td>\n",
       "      <td>7</td>\n",
       "    </tr>\n",
       "    <tr>\n",
       "      <th>7</th>\n",
       "      <td>female</td>\n",
       "      <td>5.75</td>\n",
       "      <td>150</td>\n",
       "      <td>9</td>\n",
       "    </tr>\n",
       "  </tbody>\n",
       "</table>\n",
       "</div>"
      ],
      "text/plain": [
       "   Person  height  weight  foot size\n",
       "0    male    6.00     180         12\n",
       "1    male    5.92     190         11\n",
       "2    male    5.58     170         12\n",
       "3    male    5.92     165         10\n",
       "4  female    5.00     100          6\n",
       "5  female    5.50     150          8\n",
       "6  female    5.42     130          7\n",
       "7  female    5.75     150          9"
      ]
     },
     "execution_count": 1,
     "metadata": {},
     "output_type": "execute_result"
    }
   ],
   "source": [
    "import numpy as np\n",
    "import pandas as pd\n",
    "data = pd.read_csv('gender.csv')\n",
    "data\n",
    "# \tPerson\theight\tweight\tfoot size\n",
    "# 0\tmale\t6.00\t180\t12\n",
    "# 1\tmale\t5.92\t190\t11\n",
    "# 2\tmale\t5.58\t170\t12\n",
    "# 3\tmale\t5.92\t165\t10\n",
    "# 4\tfemale\t5.00\t100\t6\n",
    "# 5\tfemale\t5.50\t150\t8\n",
    "# 6\tfemale\t5.42\t130\t7\n",
    "# 7\tfemale\t5.75\t150\t9"
   ]
  },
  {
   "cell_type": "markdown",
   "metadata": {
    "_cell_guid": "242cbe2a-0d0e-477d-9d8f-d1eba9534e45",
    "_uuid": "40c7ae1dc7ada0804fd17cc7d06ed703ec3651bc"
   },
   "source": [
    "So a very small dataset, but this will help us better understand how the classifier works in more detail. The results surely wont be groundbreaking. We can see that gender is shown as strings male/female . Let's change \"male\" to 0 and \"female\" to 1 and make a binary categorical variable. \n",
    "\n",
    "### Index the labels $[male, female] \\rightarrow [0, 1] $."
   ]
  },
  {
   "cell_type": "code",
   "execution_count": null,
   "metadata": {},
   "outputs": [],
   "source": []
  },
  {
   "cell_type": "code",
   "execution_count": 2,
   "metadata": {
    "_cell_guid": "675d9f73-fd16-4fcf-afe8-09ed42926eb1",
    "_uuid": "808424eb9c199176154d0a08c232f07f026b983c"
   },
   "outputs": [
    {
     "data": {
      "text/html": [
       "<div>\n",
       "<style scoped>\n",
       "    .dataframe tbody tr th:only-of-type {\n",
       "        vertical-align: middle;\n",
       "    }\n",
       "\n",
       "    .dataframe tbody tr th {\n",
       "        vertical-align: top;\n",
       "    }\n",
       "\n",
       "    .dataframe thead th {\n",
       "        text-align: right;\n",
       "    }\n",
       "</style>\n",
       "<table border=\"1\" class=\"dataframe\">\n",
       "  <thead>\n",
       "    <tr style=\"text-align: right;\">\n",
       "      <th></th>\n",
       "      <th>Person</th>\n",
       "      <th>height</th>\n",
       "      <th>weight</th>\n",
       "      <th>foot size</th>\n",
       "    </tr>\n",
       "  </thead>\n",
       "  <tbody>\n",
       "    <tr>\n",
       "      <th>0</th>\n",
       "      <td>0</td>\n",
       "      <td>6.00</td>\n",
       "      <td>180</td>\n",
       "      <td>12</td>\n",
       "    </tr>\n",
       "    <tr>\n",
       "      <th>1</th>\n",
       "      <td>0</td>\n",
       "      <td>5.92</td>\n",
       "      <td>190</td>\n",
       "      <td>11</td>\n",
       "    </tr>\n",
       "    <tr>\n",
       "      <th>2</th>\n",
       "      <td>0</td>\n",
       "      <td>5.58</td>\n",
       "      <td>170</td>\n",
       "      <td>12</td>\n",
       "    </tr>\n",
       "    <tr>\n",
       "      <th>3</th>\n",
       "      <td>0</td>\n",
       "      <td>5.92</td>\n",
       "      <td>165</td>\n",
       "      <td>10</td>\n",
       "    </tr>\n",
       "    <tr>\n",
       "      <th>4</th>\n",
       "      <td>1</td>\n",
       "      <td>5.00</td>\n",
       "      <td>100</td>\n",
       "      <td>6</td>\n",
       "    </tr>\n",
       "    <tr>\n",
       "      <th>5</th>\n",
       "      <td>1</td>\n",
       "      <td>5.50</td>\n",
       "      <td>150</td>\n",
       "      <td>8</td>\n",
       "    </tr>\n",
       "    <tr>\n",
       "      <th>6</th>\n",
       "      <td>1</td>\n",
       "      <td>5.42</td>\n",
       "      <td>130</td>\n",
       "      <td>7</td>\n",
       "    </tr>\n",
       "    <tr>\n",
       "      <th>7</th>\n",
       "      <td>1</td>\n",
       "      <td>5.75</td>\n",
       "      <td>150</td>\n",
       "      <td>9</td>\n",
       "    </tr>\n",
       "  </tbody>\n",
       "</table>\n",
       "</div>"
      ],
      "text/plain": [
       "   Person  height  weight  foot size\n",
       "0       0    6.00     180         12\n",
       "1       0    5.92     190         11\n",
       "2       0    5.58     170         12\n",
       "3       0    5.92     165         10\n",
       "4       1    5.00     100          6\n",
       "5       1    5.50     150          8\n",
       "6       1    5.42     130          7\n",
       "7       1    5.75     150          9"
      ]
     },
     "execution_count": 2,
     "metadata": {},
     "output_type": "execute_result"
    }
   ],
   "source": [
    "# Subset data and assign 0 and 1 \n",
    "data['Person'] = data['Person'].replace('male', 0)\n",
    "data['Person'] = data['Person'].replace('female', 1)\n",
    "data\n",
    "\n",
    "# Person\theight\tweight\tfoot size\n",
    "# 0\t0\t6.00\t180\t12\n",
    "# 1\t0\t5.92\t190\t11\n",
    "# 2\t0\t5.58\t170\t12\n",
    "# 3\t0\t5.92\t165\t10\n",
    "# 4\t1\t5.00\t100\t6\n",
    "# 5\t1\t5.50\t150\t8\n",
    "# 6\t1\t5.42\t130\t7\n",
    "# 7\t1\t5.75\t150\t9"
   ]
  },
  {
   "cell_type": "code",
   "execution_count": 3,
   "metadata": {},
   "outputs": [
    {
     "name": "stdout",
     "output_type": "stream",
     "text": [
      "<class 'pandas.core.frame.DataFrame'>\n",
      "RangeIndex: 8 entries, 0 to 7\n",
      "Data columns (total 4 columns):\n",
      "Person       8 non-null int64\n",
      "height       8 non-null float64\n",
      "weight       8 non-null int64\n",
      "foot size    8 non-null int64\n",
      "dtypes: float64(1), int64(3)\n",
      "memory usage: 336.0 bytes\n"
     ]
    }
   ],
   "source": [
    "data.info()"
   ]
  },
  {
   "cell_type": "markdown",
   "metadata": {},
   "source": [
    "This is great. Now that we have our data in the format that we need, we can start focusing on the Naive Bayes equation and take our experiment forward. \n",
    "\n",
    "We have our data data $x = (x_{1}, \\ldots, x_{n})$ (height, weight, footsize) to be classified, Using joint probabilities between data and target class (Person), NB classifier assigns a discrete probability to all examples of feature data as shown below:\n",
    "\n",
    "$$ p(C_{k}|x_{1}, \\ldots, x_{n} )$$\n",
    "\n",
    "Here, $K$ represents the numbers on classes in the target variable. \n",
    "\n",
    "### Gaussian PDF\n",
    "With continuous data, we assume that the features for each class are distributed according to a Normal/Gaussian distribution and class probability can be calculated using Gaussian PDF function below\n",
    "\n",
    "$$ f(x) = \\dfrac{1}{\\sqrt{2 \\pi \\sigma^2}} \\cdot exp\\bigg(\\dfrac{-(x - \\mu)^2}{2 \\sigma^2}\\bigg) $$\n",
    "\n",
    "Where $\\sigma^2$ represents the variance of the values in $x$, while $\\mu$ represents the mean of the values in $x$. So to calculate the distribution function, we first need to calculate the mean and variance of each variable with respect to the target classes (male or female). "
   ]
  },
  {
   "cell_type": "markdown",
   "metadata": {
    "_cell_guid": "83e8c5f9-e24d-40aa-b7de-bd90c52ee4fc",
    "_uuid": "97e935722478e5dcc64908f64646e96224fe78f6"
   },
   "source": [
    "### Segment (subset) the dataset by class (male/female) and calculate the mean and var of features for male and female classes. \n",
    "\n",
    "Before we can compute for the probability distribution for features $x$, we must first compute for the mean $\\mu$ and variance $\\sigma^{2}$ values of $x_{i}$ for each $k$ class."
   ]
  },
  {
   "cell_type": "code",
   "execution_count": 4,
   "metadata": {
    "_cell_guid": "6e663b44-ef56-4883-979b-7de74a2bf815",
    "_uuid": "bcc8bfe1097759c842331a505aec91b05057a427"
   },
   "outputs": [],
   "source": [
    "# Your code here \n",
    "male_mu = data[['height', 'weight', 'foot size']][data['Person'] == 0].mean()\n",
    "male_var = data[['height', 'weight', 'foot size']][data['Person'] == 0].var()\n",
    "\n",
    "female_mu = data[['height', 'weight', 'foot size']][data['Person'] == 1].mean()\n",
    "female_var = data[['height', 'weight', 'foot size']][data['Person'] == 1].var()\n",
    "\n",
    "# Example output\n",
    "\n",
    "# Mean values for male features\n",
    "# height         5.855\n",
    "# weight       176.250\n",
    "# foot size     11.250\n",
    "# dtype: float64\n",
    "\n",
    "# Variance values for male features\n",
    "# height         0.035033\n",
    "# weight       122.916667\n",
    "# foot size      0.916667\n",
    "# dtype: float64\n",
    "\n",
    "# Mean values for female features\n",
    "# height         5.4175\n",
    "# weight       132.5000\n",
    "# foot size      7.5000\n",
    "# dtype: float64\n",
    "\n",
    "# Variance values for female features\n",
    "# height         0.097225\n",
    "# weight       558.333333\n",
    "# foot size      1.666667\n",
    "# dtype: float64"
   ]
  },
  {
   "cell_type": "markdown",
   "metadata": {},
   "source": [
    "### Decision Rule"
   ]
  },
  {
   "cell_type": "markdown",
   "metadata": {
    "_cell_guid": "6289878d-ca96-4f59-8d48-9981b2509033",
    "_uuid": "db5ba09970192f0b656c5156977523ef66ac0167"
   },
   "source": [
    "In order to build a functional classifier from the model above, we need some kind of a decision rule, (this applies to all classifiers). For our NB classifier, we use the $ARGMAX$ function for identifying a unknown target class for a new example.\n",
    "\n",
    "$$ \\hat{y} = argmax_{k \\in \\{1,\\ldots,K\\}} \\bigg(p(C_{k}) \\prod_{i=1}^{n} p(x_{i}|C_{k})\\bigg) $$\n",
    "\n",
    "Now that we have the $\\mu$ and $\\sigma^{2}$ values for each features $x_{i}$ per $k$-class, let us now write a function for our $likelihood$ computation, i.e. \n",
    "\n",
    "$$p(x_{i}|C_{k})$$. \n",
    "\n",
    "Recall that we are going to plugin the likelihood computation into the Gaussian probability density function,\n",
    "\n",
    "$$ p(x = x_{i} | C_{k}) = \\dfrac{1}{\\sqrt{2 \\pi \\sigma_{k}^{2}}} \\cdot exp\\bigg(\\dfrac{-(x_{i} - \\mu_{k})^2}{2 \\sigma_{k}^{2}}\\bigg) $$\n",
    "\n",
    "### Implement the `likelihood(xi, mu, var)` function from above equation"
   ]
  },
  {
   "cell_type": "code",
   "execution_count": 5,
   "metadata": {
    "_cell_guid": "af95b61e-c03a-4010-a20a-5503419fcc31",
    "_uuid": "cfcdc3f6c8d4738fdc39368d0c34dd12566d1eab"
   },
   "outputs": [],
   "source": [
    "def likelihood(xi, mu, var):\n",
    "    return (1 / np.sqrt(2 * np.pi * var)) * np.exp((-1*(xi - mu) ** 2) / (2 * var))"
   ]
  },
  {
   "cell_type": "markdown",
   "metadata": {
    "_cell_guid": "76aea1b7-9ba6-4fe5-98c9-c386857bc6f5",
    "_uuid": "8666b74e8840d0295fc2c1133901dea6fbe505f3"
   },
   "source": [
    "So this is our function for computing likelihood. We shall now compute the $prior$ probability for $k$-classes. \n",
    "\n",
    "There are two ways to do this: \n",
    "- Give an equal probability for each $k$-classes i.e. a uniform prior\n",
    "- (number of class samples) / (total number of samples). \n",
    "\n",
    "For this small dataset, we have equal number of classes , and both approaches will lead us to have . uniform prior anyway. we shall get a prior probabiity of 0.5 since there are exactly 4 samples for each class.\n",
    "\n",
    "### Declare prior probability of both target classes"
   ]
  },
  {
   "cell_type": "code",
   "execution_count": 6,
   "metadata": {
    "_cell_guid": "d116e64f-7727-4e26-b0ef-7e26199987c6",
    "_uuid": "a6720639e6fd388972ec542a0aa069f9894e570e"
   },
   "outputs": [
    {
     "data": {
      "text/plain": [
       "array([0.5, 0.5])"
      ]
     },
     "execution_count": 6,
     "metadata": {},
     "output_type": "execute_result"
    }
   ],
   "source": [
    "class_priors = np.array([0.5, 0.5])\n",
    "class_priors\n",
    "\n",
    "\n",
    "# array([0.5, 0.5])"
   ]
  },
  {
   "cell_type": "markdown",
   "metadata": {
    "_cell_guid": "45c040e1-49ef-4ec0-a0e7-ea923153b4e2",
    "_uuid": "263710cfa958786d04c1cac7510ed6c107314b06"
   },
   "source": [
    "Great, with our `class_priors` array $p(C_{k})$, we have everything we need to solve the equation.\n",
    "\n",
    "### Classify a new example\n",
    "\n",
    "We can now classify an un-labeled data. \n",
    "\n",
    "### Add a new example with features (but no target) to our dataset. "
   ]
  },
  {
   "cell_type": "code",
   "execution_count": 7,
   "metadata": {
    "_cell_guid": "c09efc3e-5a88-4286-8e15-fb8c6e4c56fd",
    "_uuid": "9a0d83b6d803d2ae5f76ce3122e323efa285042e"
   },
   "outputs": [
    {
     "data": {
      "text/html": [
       "<div>\n",
       "<style scoped>\n",
       "    .dataframe tbody tr th:only-of-type {\n",
       "        vertical-align: middle;\n",
       "    }\n",
       "\n",
       "    .dataframe tbody tr th {\n",
       "        vertical-align: top;\n",
       "    }\n",
       "\n",
       "    .dataframe thead th {\n",
       "        text-align: right;\n",
       "    }\n",
       "</style>\n",
       "<table border=\"1\" class=\"dataframe\">\n",
       "  <thead>\n",
       "    <tr style=\"text-align: right;\">\n",
       "      <th></th>\n",
       "      <th>Person</th>\n",
       "      <th>height</th>\n",
       "      <th>weight</th>\n",
       "      <th>foot size</th>\n",
       "    </tr>\n",
       "  </thead>\n",
       "  <tbody>\n",
       "    <tr>\n",
       "      <th>0</th>\n",
       "      <td>0</td>\n",
       "      <td>6.00</td>\n",
       "      <td>180</td>\n",
       "      <td>12</td>\n",
       "    </tr>\n",
       "    <tr>\n",
       "      <th>1</th>\n",
       "      <td>0</td>\n",
       "      <td>5.92</td>\n",
       "      <td>190</td>\n",
       "      <td>11</td>\n",
       "    </tr>\n",
       "    <tr>\n",
       "      <th>2</th>\n",
       "      <td>0</td>\n",
       "      <td>5.58</td>\n",
       "      <td>170</td>\n",
       "      <td>12</td>\n",
       "    </tr>\n",
       "    <tr>\n",
       "      <th>3</th>\n",
       "      <td>0</td>\n",
       "      <td>5.92</td>\n",
       "      <td>165</td>\n",
       "      <td>10</td>\n",
       "    </tr>\n",
       "    <tr>\n",
       "      <th>4</th>\n",
       "      <td>1</td>\n",
       "      <td>5.00</td>\n",
       "      <td>100</td>\n",
       "      <td>6</td>\n",
       "    </tr>\n",
       "    <tr>\n",
       "      <th>5</th>\n",
       "      <td>1</td>\n",
       "      <td>5.50</td>\n",
       "      <td>150</td>\n",
       "      <td>8</td>\n",
       "    </tr>\n",
       "    <tr>\n",
       "      <th>6</th>\n",
       "      <td>1</td>\n",
       "      <td>5.42</td>\n",
       "      <td>130</td>\n",
       "      <td>7</td>\n",
       "    </tr>\n",
       "    <tr>\n",
       "      <th>7</th>\n",
       "      <td>1</td>\n",
       "      <td>5.75</td>\n",
       "      <td>150</td>\n",
       "      <td>9</td>\n",
       "    </tr>\n",
       "    <tr>\n",
       "      <th>8</th>\n",
       "      <td>-99</td>\n",
       "      <td>6.00</td>\n",
       "      <td>130</td>\n",
       "      <td>8</td>\n",
       "    </tr>\n",
       "  </tbody>\n",
       "</table>\n",
       "</div>"
      ],
      "text/plain": [
       "   Person  height  weight  foot size\n",
       "0       0    6.00     180         12\n",
       "1       0    5.92     190         11\n",
       "2       0    5.58     170         12\n",
       "3       0    5.92     165         10\n",
       "4       1    5.00     100          6\n",
       "5       1    5.50     150          8\n",
       "6       1    5.42     130          7\n",
       "7       1    5.75     150          9\n",
       "8     -99    6.00     130          8"
      ]
     },
     "execution_count": 7,
     "metadata": {},
     "output_type": "execute_result"
    }
   ],
   "source": [
    "# Add a new example with features of your choice (keep them reasonable)\n",
    "data.loc[data.shape[0]] = [-99, 6, 130, 8]\n",
    "data\n",
    "\n",
    "# Person\theight\tweight\tfoot size\n",
    "# 0\t0\t6.00\t180\t12\n",
    "# 1\t0\t5.92\t190\t11\n",
    "# 2\t0\t5.58\t170\t12\n",
    "# 3\t0\t5.92\t165\t10\n",
    "# 4\t1\t5.00\t100\t6\n",
    "# 5\t1\t5.50\t150\t8\n",
    "# 6\t1\t5.42\t130\t7\n",
    "# 7\t1\t5.75\t150\t9\n",
    "# 8\t-99\t6.00\t130\t8 <-- new example"
   ]
  },
  {
   "cell_type": "markdown",
   "metadata": {
    "_cell_guid": "e42fbfc2-6b1f-4b0e-8f0a-867247ddc19f",
    "_uuid": "6d6a4393da61a361a01fa907ea9bd67df2c7e4be"
   },
   "source": [
    "> Using value -99 or similar values for unknowns in a dataset is a common way of processing data without generating Nan errors , yet keep the unknown identifiable by putting in some unlikely value i.e. -99 or -1 , which can later be searched for."
   ]
  },
  {
   "cell_type": "markdown",
   "metadata": {},
   "source": [
    "Let's calculate likelihood (probability of unknown class given new data) of each xi for the new example. "
   ]
  },
  {
   "cell_type": "markdown",
   "metadata": {
    "_cell_guid": "7d70c7e1-0b6a-48b6-8e27-0f95358bb540",
    "_uuid": "78e68de77a0f5c4ad38f42dcc762c70991c4a1ef"
   },
   "source": [
    "### Using` likelihood()`, get likelihood values  `height`, `weight` and `footsize`  for new example. "
   ]
  },
  {
   "cell_type": "code",
   "execution_count": 8,
   "metadata": {
    "_cell_guid": "779bfa20-edc7-46e1-93af-c02eddcfb400",
    "_uuid": "bc301cdbbe305dfcf67e71747becb1913d523ace"
   },
   "outputs": [
    {
     "data": {
      "text/plain": [
       "(array([1.57888318, 0.22345873]),\n",
       " array([5.98674302e-06, 1.67892979e-02]),\n",
       " array([0.00131122, 0.2866907 ]))"
      ]
     },
     "execution_count": 8,
     "metadata": {},
     "output_type": "execute_result"
    }
   ],
   "source": [
    "# height feature\n",
    "# height feature\n",
    "x_1 = likelihood(xi=data.loc[8]['height'],\n",
    "                 mu =np.array([male_mu['height'], female_mu['height']]),\n",
    "                 var =np.array([male_var['height'], female_var['height']]))\n",
    "\n",
    "# weight feature\n",
    "x_2 = likelihood(xi=data.loc[8]['weight'],\n",
    "                 mu=np.array([male_mu['weight'], female_mu['weight']]),\n",
    "                 var=np.array([male_var['weight'], female_var['weight']]))\n",
    "\n",
    "# foot size feature\n",
    "x_3 = likelihood(xi=data.loc[8]['foot size'],\n",
    "                 mu=np.array([male_mu['foot size'], female_mu['foot size']]),\n",
    "                 var=np.array([male_var['foot size'], female_var['foot size']]))\n",
    "\n",
    "x_1, x_2, x_3\n",
    "\n",
    "# (array([1.57888318, 0.22345873]),\n",
    "#  array([5.98674302e-06, 1.67892979e-02]),\n",
    "#  array([0.00131122, 0.2866907 ]))"
   ]
  },
  {
   "cell_type": "markdown",
   "metadata": {
    "_cell_guid": "de028612-d965-47b7-91a6-92560d4770f2",
    "_uuid": "863f03a2fc02921b670d59eef034a60fecbbb8ee"
   },
   "source": [
    "This completes our Gaussian likelihood $p(x=x_{1} | C_{k})$. "
   ]
  },
  {
   "cell_type": "markdown",
   "metadata": {
    "_cell_guid": "e20b21ef-0736-4274-b26b-9495faac023b",
    "_uuid": "ea378fa193af8c0ba5ea6f4fe1edc20c860512af"
   },
   "source": [
    "Now that we have all the likelihood values and our prior probabilities, the variables in our equation are now complete. Now we need to calculate the formula \n",
    "$$p(C_{k}) \\prod_{i=0}^{n} p(x_{i}|C_{k})$$\n",
    "\n",
    "In this particular example , it can be written simply as:\n",
    "\n",
    "$$ prediction = prior \\times x_{1} \\times x_{2} \\times x_{3} $$ \n",
    "\n",
    "\n",
    "### Calculate the class prediction for new example using above formula"
   ]
  },
  {
   "cell_type": "code",
   "execution_count": 9,
   "metadata": {
    "_cell_guid": "1dbb7173-6a94-4139-bc6e-a0bae0aedf2a",
    "_uuid": "73da0d8c3221ba8da84ec939c9d19657dd6129eb"
   },
   "outputs": [
    {
     "data": {
      "text/plain": [
       "array([6.19707184e-09, 5.37790918e-04])"
      ]
     },
     "execution_count": 9,
     "metadata": {},
     "output_type": "execute_result"
    }
   ],
   "source": [
    "prediction = class_priors * x_1 * x_2 * x_3\n",
    "prediction"
   ]
  },
  {
   "cell_type": "markdown",
   "metadata": {
    "_cell_guid": "6a1b2995-c269-4bc4-9e4c-bbe217584c27",
    "_uuid": "77cc8af84ed4ddc1c4fb270b77b83c1857a4c6e2"
   },
   "source": [
    "### Normalizing with \"Evidence\" P(X)\n",
    "\n",
    "Recall that Gaussian $p(x_{i} | C_{k})$ equation gives a probability density, not a probability distribution. To get the equivalent probability distribution, we  need to **normalize** the probability density. Recall the denominator in Bayes laws , also known as \"Probability of Data\" or \"Evidence\" is calculated as below:\n",
    "\n",
    "\n",
    "$$ \\sum_{i = 0}^{k - 1} \\Bigg( p(c_{i}) \\prod_{j = 0}^{n - 1} p(x_{j} | c_{i}) \\Bigg) $$\n",
    "\n",
    "Concretely, the `evidence` may be computed as follows in this case,\n",
    "\n",
    "$$ evidence = {p(male)\\ p(height|male)\\ p(weight|male)\\ p(foot\\ size|male)\\\\ +\\ p(female)\\ p(height|female)\\ p(weight|female)\\ p(foot\\ size|female)} $$\n",
    "\n",
    "> The `evidence` is the sum of all joint probability $p(C_{k}, x)$.\n",
    "\n",
    "\n",
    "\n",
    "### Normalize the predictions using the equation for `evidence` we have defined above"
   ]
  },
  {
   "cell_type": "code",
   "execution_count": 10,
   "metadata": {
    "_cell_guid": "c610d330-5925-4dd8-8d69-e0c496809b87",
    "_uuid": "bfbe4cc0a265d807a3879334f202ba2bc9e13e2d"
   },
   "outputs": [],
   "source": [
    "evidence = np.sum(prediction)\n",
    "posterior = prediction/evidence"
   ]
  },
  {
   "cell_type": "code",
   "execution_count": 11,
   "metadata": {
    "_cell_guid": "635d4069-4d16-4e88-980a-e8b935fc0d62",
    "_uuid": "5ec35225eb47cad40cf8d32435dbd70d0d6ac053"
   },
   "outputs": [
    {
     "data": {
      "text/plain": [
       "array([1.15230663e-05, 9.99988477e-01])"
      ]
     },
     "execution_count": 11,
     "metadata": {},
     "output_type": "execute_result"
    }
   ],
   "source": [
    "posterior\n",
    "# array([1.15230663e-05, 9.99988477e-01])"
   ]
  },
  {
   "cell_type": "markdown",
   "metadata": {
    "_cell_guid": "54623df0-9119-40c0-a301-0c24728433ec",
    "_uuid": "c53f293708b48a64dd2063793fe39a4bacac456f"
   },
   "source": [
    "#### Sanity check\n",
    "\n",
    "The `posterior` probability values SHOULD now sum up to 1, i.e. a probability distribution. Let's check for it. "
   ]
  },
  {
   "cell_type": "code",
   "execution_count": 12,
   "metadata": {
    "_cell_guid": "211c17c9-bed9-4cf2-b7cb-00296381c048",
    "_uuid": "8145e97a3a4f945b8986826ac9cef0e174a43725"
   },
   "outputs": [
    {
     "data": {
      "text/plain": [
       "1.0"
      ]
     },
     "execution_count": 12,
     "metadata": {},
     "output_type": "execute_result"
    }
   ],
   "source": [
    "# Uncomment to check \n",
    "np.sum(posterior)\n",
    "\n",
    "# 1.0"
   ]
  },
  {
   "cell_type": "markdown",
   "metadata": {
    "_cell_guid": "c624250e-0d0b-4a99-be29-a296648821aa",
    "_uuid": "6ef7b5df3f2555ea06c57215bcf94234fe5bd2e6"
   },
   "source": [
    "### Bring in `ARGMAX` , the decision rule\n",
    "\n",
    "So now we have posterior class probabilities for each class, that sum up to 1. So naturally, which ever class shows a higher probability, will be chosen as the prediction. \n",
    "\n",
    "$$ \\hat{y} = argmax_{k \\in \\{1,\\ldots,K\\}} \\bigg(p(C_{k}) \\prod_{i=1}^{n} p(x_{i}|C_{k})\\bigg) $$\n",
    "\n",
    "### To get our predicted class, use the $np.argmax()$ function with `posterior`\n"
   ]
  },
  {
   "cell_type": "code",
   "execution_count": 13,
   "metadata": {
    "_cell_guid": "71ca914f-8aa5-4f2b-964a-5eb826e44ff7",
    "_uuid": "e82728c25cbfaa363715bfff91efd8db60c201ee"
   },
   "outputs": [
    {
     "data": {
      "text/plain": [
       "1"
      ]
     },
     "execution_count": 13,
     "metadata": {},
     "output_type": "execute_result"
    }
   ],
   "source": [
    "# Predict the class using argmax\n",
    "np.argmax(posterior)\n",
    "\n",
    "# The Naive Bayes predicts Class: 1"
   ]
  },
  {
   "cell_type": "markdown",
   "metadata": {
    "_cell_guid": "998f8822-9a35-43d2-a451-59b026cb1c9c",
    "_uuid": "12f72e8bd6fe3e23417947f40b3195c7bf91dc0a"
   },
   "source": [
    "Recall that the index `1` refers to `female`, hence our classifer predicts that a probable class for new example is `female`. Neat isn't it. Pretty naive , yet highly effective."
   ]
  },
  {
   "cell_type": "markdown",
   "metadata": {},
   "source": [
    "## Level Up - Optional \n",
    "\n",
    "- Read the dataset `diabetes.csv` into your code and modify the code it to perform predictions on presence or absence of diabetes using a number of available features and a target variable. \n",
    "\n",
    "You may need to covert some of the code into functions to help you process your data faster as this now has 8 features. "
   ]
  },
  {
   "cell_type": "code",
   "execution_count": 14,
   "metadata": {
    "scrolled": true
   },
   "outputs": [
    {
     "data": {
      "text/html": [
       "<div>\n",
       "<style scoped>\n",
       "    .dataframe tbody tr th:only-of-type {\n",
       "        vertical-align: middle;\n",
       "    }\n",
       "\n",
       "    .dataframe tbody tr th {\n",
       "        vertical-align: top;\n",
       "    }\n",
       "\n",
       "    .dataframe thead th {\n",
       "        text-align: right;\n",
       "    }\n",
       "</style>\n",
       "<table border=\"1\" class=\"dataframe\">\n",
       "  <thead>\n",
       "    <tr style=\"text-align: right;\">\n",
       "      <th></th>\n",
       "      <th>Pregnancies</th>\n",
       "      <th>Glucose</th>\n",
       "      <th>BloodPressure</th>\n",
       "      <th>SkinThickness</th>\n",
       "      <th>Insulin</th>\n",
       "      <th>BMI</th>\n",
       "      <th>DiabetesPedigreeFunction</th>\n",
       "      <th>Age</th>\n",
       "      <th>Outcome</th>\n",
       "    </tr>\n",
       "  </thead>\n",
       "  <tbody>\n",
       "    <tr>\n",
       "      <th>0</th>\n",
       "      <td>6</td>\n",
       "      <td>148</td>\n",
       "      <td>72</td>\n",
       "      <td>35</td>\n",
       "      <td>0</td>\n",
       "      <td>33.6</td>\n",
       "      <td>0.627</td>\n",
       "      <td>50</td>\n",
       "      <td>1</td>\n",
       "    </tr>\n",
       "    <tr>\n",
       "      <th>1</th>\n",
       "      <td>1</td>\n",
       "      <td>85</td>\n",
       "      <td>66</td>\n",
       "      <td>29</td>\n",
       "      <td>0</td>\n",
       "      <td>26.6</td>\n",
       "      <td>0.351</td>\n",
       "      <td>31</td>\n",
       "      <td>0</td>\n",
       "    </tr>\n",
       "    <tr>\n",
       "      <th>2</th>\n",
       "      <td>8</td>\n",
       "      <td>183</td>\n",
       "      <td>64</td>\n",
       "      <td>0</td>\n",
       "      <td>0</td>\n",
       "      <td>23.3</td>\n",
       "      <td>0.672</td>\n",
       "      <td>32</td>\n",
       "      <td>1</td>\n",
       "    </tr>\n",
       "    <tr>\n",
       "      <th>3</th>\n",
       "      <td>1</td>\n",
       "      <td>89</td>\n",
       "      <td>66</td>\n",
       "      <td>23</td>\n",
       "      <td>94</td>\n",
       "      <td>28.1</td>\n",
       "      <td>0.167</td>\n",
       "      <td>21</td>\n",
       "      <td>0</td>\n",
       "    </tr>\n",
       "    <tr>\n",
       "      <th>4</th>\n",
       "      <td>0</td>\n",
       "      <td>137</td>\n",
       "      <td>40</td>\n",
       "      <td>35</td>\n",
       "      <td>168</td>\n",
       "      <td>43.1</td>\n",
       "      <td>2.288</td>\n",
       "      <td>33</td>\n",
       "      <td>1</td>\n",
       "    </tr>\n",
       "  </tbody>\n",
       "</table>\n",
       "</div>"
      ],
      "text/plain": [
       "   Pregnancies  Glucose  BloodPressure  SkinThickness  Insulin   BMI  \\\n",
       "0            6      148             72             35        0  33.6   \n",
       "1            1       85             66             29        0  26.6   \n",
       "2            8      183             64              0        0  23.3   \n",
       "3            1       89             66             23       94  28.1   \n",
       "4            0      137             40             35      168  43.1   \n",
       "\n",
       "   DiabetesPedigreeFunction  Age  Outcome  \n",
       "0                     0.627   50        1  \n",
       "1                     0.351   31        0  \n",
       "2                     0.672   32        1  \n",
       "3                     0.167   21        0  \n",
       "4                     2.288   33        1  "
      ]
     },
     "execution_count": 14,
     "metadata": {},
     "output_type": "execute_result"
    }
   ],
   "source": [
    "diabetes = pd.read_csv('diabetes.csv')\n",
    "diabetes.head()"
   ]
  },
  {
   "cell_type": "code",
   "execution_count": 15,
   "metadata": {},
   "outputs": [
    {
     "data": {
      "text/plain": [
       "Index(['pregnancies', 'glucose', 'bloodpressure', 'skinthickness', 'insulin',\n",
       "       'bmi', 'diabetespedigreefunction', 'age', 'outcome'],\n",
       "      dtype='object')"
      ]
     },
     "execution_count": 15,
     "metadata": {},
     "output_type": "execute_result"
    }
   ],
   "source": [
    "diabetes.columns = diabetes.columns.str.lower()\n",
    "diabetes.columns"
   ]
  },
  {
   "cell_type": "code",
   "execution_count": 16,
   "metadata": {},
   "outputs": [
    {
     "data": {
      "text/plain": [
       "0    500\n",
       "1    268\n",
       "Name: outcome, dtype: int64"
      ]
     },
     "execution_count": 16,
     "metadata": {},
     "output_type": "execute_result"
    }
   ],
   "source": [
    "diabetes.outcome.value_counts()"
   ]
  },
  {
   "cell_type": "code",
   "execution_count": 17,
   "metadata": {},
   "outputs": [
    {
     "name": "stdout",
     "output_type": "stream",
     "text": [
      "pregnancies                   4.865672\n",
      "glucose                     141.257463\n",
      "bloodpressure                70.824627\n",
      "skinthickness                22.164179\n",
      "insulin                     100.335821\n",
      "bmi                          35.142537\n",
      "diabetespedigreefunction      0.550500\n",
      "age                          37.067164\n",
      "dtype: float64\n",
      "pregnancies                   3.298000\n",
      "glucose                     109.980000\n",
      "bloodpressure                68.184000\n",
      "skinthickness                19.664000\n",
      "insulin                      68.792000\n",
      "bmi                          30.304200\n",
      "diabetespedigreefunction      0.429734\n",
      "age                          31.190000\n",
      "dtype: float64\n"
     ]
    }
   ],
   "source": [
    "dpos_mu = diabetes[['pregnancies', 'glucose', 'bloodpressure', 'skinthickness', 'insulin',\n",
    "       'bmi', 'diabetespedigreefunction', 'age']][diabetes['outcome'] == 1].mean()\n",
    "dpos_var = diabetes[['pregnancies', 'glucose', 'bloodpressure', 'skinthickness', 'insulin',\n",
    "       'bmi', 'diabetespedigreefunction', 'age']][diabetes['outcome'] == 1].var()\n",
    "\n",
    "dneg_mu = diabetes[['pregnancies', 'glucose', 'bloodpressure', 'skinthickness', 'insulin',\n",
    "       'bmi', 'diabetespedigreefunction', 'age']][diabetes['outcome'] == 0].mean()\n",
    "\n",
    "dneg_var = diabetes[['pregnancies', 'glucose', 'bloodpressure', 'skinthickness', 'insulin',\n",
    "       'bmi', 'diabetespedigreefunction', 'age']][diabetes['outcome'] == 0].var()\n",
    "\n",
    "print(dpos_mu)\n",
    "print(dneg_mu)"
   ]
  },
  {
   "cell_type": "code",
   "execution_count": 33,
   "metadata": {},
   "outputs": [],
   "source": [
    "diabetes.outcome.value_counts()\n",
    "class_priors1 = np.array([0.5,0.5])"
   ]
  },
  {
   "cell_type": "code",
   "execution_count": 46,
   "metadata": {},
   "outputs": [
    {
     "data": {
      "text/html": [
       "<div>\n",
       "<style scoped>\n",
       "    .dataframe tbody tr th:only-of-type {\n",
       "        vertical-align: middle;\n",
       "    }\n",
       "\n",
       "    .dataframe tbody tr th {\n",
       "        vertical-align: top;\n",
       "    }\n",
       "\n",
       "    .dataframe thead th {\n",
       "        text-align: right;\n",
       "    }\n",
       "</style>\n",
       "<table border=\"1\" class=\"dataframe\">\n",
       "  <thead>\n",
       "    <tr style=\"text-align: right;\">\n",
       "      <th></th>\n",
       "      <th>pregnancies</th>\n",
       "      <th>glucose</th>\n",
       "      <th>bloodpressure</th>\n",
       "      <th>skinthickness</th>\n",
       "      <th>insulin</th>\n",
       "      <th>bmi</th>\n",
       "      <th>diabetespedigreefunction</th>\n",
       "      <th>age</th>\n",
       "      <th>outcome</th>\n",
       "    </tr>\n",
       "  </thead>\n",
       "  <tbody>\n",
       "    <tr>\n",
       "      <th>767</th>\n",
       "      <td>1.0</td>\n",
       "      <td>93.0</td>\n",
       "      <td>70.0</td>\n",
       "      <td>31.0</td>\n",
       "      <td>0.0</td>\n",
       "      <td>30.4</td>\n",
       "      <td>0.315</td>\n",
       "      <td>23.0</td>\n",
       "      <td>0.0</td>\n",
       "    </tr>\n",
       "    <tr>\n",
       "      <th>768</th>\n",
       "      <td>4.0</td>\n",
       "      <td>124.0</td>\n",
       "      <td>70.0</td>\n",
       "      <td>21.0</td>\n",
       "      <td>80.0</td>\n",
       "      <td>33.0</td>\n",
       "      <td>0.450</td>\n",
       "      <td>35.0</td>\n",
       "      <td>-99.0</td>\n",
       "    </tr>\n",
       "    <tr>\n",
       "      <th>769</th>\n",
       "      <td>2.0</td>\n",
       "      <td>90.0</td>\n",
       "      <td>65.0</td>\n",
       "      <td>20.0</td>\n",
       "      <td>50.0</td>\n",
       "      <td>28.0</td>\n",
       "      <td>0.400</td>\n",
       "      <td>28.0</td>\n",
       "      <td>-99.0</td>\n",
       "    </tr>\n",
       "    <tr>\n",
       "      <th>770</th>\n",
       "      <td>4.0</td>\n",
       "      <td>140.0</td>\n",
       "      <td>75.0</td>\n",
       "      <td>21.0</td>\n",
       "      <td>90.0</td>\n",
       "      <td>35.0</td>\n",
       "      <td>0.550</td>\n",
       "      <td>35.0</td>\n",
       "      <td>-99.0</td>\n",
       "    </tr>\n",
       "    <tr>\n",
       "      <th>771</th>\n",
       "      <td>2.0</td>\n",
       "      <td>90.0</td>\n",
       "      <td>65.0</td>\n",
       "      <td>20.0</td>\n",
       "      <td>50.0</td>\n",
       "      <td>28.0</td>\n",
       "      <td>0.400</td>\n",
       "      <td>28.0</td>\n",
       "      <td>-99.0</td>\n",
       "    </tr>\n",
       "  </tbody>\n",
       "</table>\n",
       "</div>"
      ],
      "text/plain": [
       "     pregnancies  glucose  bloodpressure  skinthickness  insulin   bmi  \\\n",
       "767          1.0     93.0           70.0           31.0      0.0  30.4   \n",
       "768          4.0    124.0           70.0           21.0     80.0  33.0   \n",
       "769          2.0     90.0           65.0           20.0     50.0  28.0   \n",
       "770          4.0    140.0           75.0           21.0     90.0  35.0   \n",
       "771          2.0     90.0           65.0           20.0     50.0  28.0   \n",
       "\n",
       "     diabetespedigreefunction   age  outcome  \n",
       "767                     0.315  23.0      0.0  \n",
       "768                     0.450  35.0    -99.0  \n",
       "769                     0.400  28.0    -99.0  \n",
       "770                     0.550  35.0    -99.0  \n",
       "771                     0.400  28.0    -99.0  "
      ]
     },
     "execution_count": 46,
     "metadata": {},
     "output_type": "execute_result"
    }
   ],
   "source": [
    "diabetes.loc[diabetes.shape[0]] = [4, 140, 75, 21, 90, 35, 0.55, 35, -99]\n",
    "diabetes.loc[diabetes.shape[0]] = [2, 90, 65, 20, 50, 28, 0.40, 28, -99]\n",
    "diabetes.tail()"
   ]
  },
  {
   "cell_type": "code",
   "execution_count": 20,
   "metadata": {},
   "outputs": [],
   "source": [
    "def get_likelihood(loc, feature):\n",
    "    xi = diabetes.loc[loc][feature]\n",
    "    mu = np.array([dneg_mu[feature], dpos_mu[feature]])\n",
    "    var = np.array([dneg_var[feature], dpos_var[feature]])\n",
    "    return likelihood(xi = xi, mu=mu, var=var)"
   ]
  },
  {
   "cell_type": "code",
   "execution_count": 47,
   "metadata": {},
   "outputs": [
    {
     "name": "stdout",
     "output_type": "stream",
     "text": [
      "[[0.1286924674688673, 0.10381703519762495], [0.007892533530703794, 0.01248083712197171], [0.020568330385324716, 0.018215500072501525], [0.02668509490078372, 0.022516109083174366], [0.003943427952640591, 0.002868544719607781], [0.04305459219916459, 0.05491770076127648], [1.2302785430173815, 1.0714035639397843], [0.032416931477557864, 0.03573217683892883]]\n"
     ]
    }
   ],
   "source": [
    "x = []\n",
    "for i in range(0,8):\n",
    "    l = get_likelihood(770, diabetes.columns[i])\n",
    "    x.append([l[0], l[1]])\n",
    "print(x)\n",
    "\n"
   ]
  },
  {
   "cell_type": "code",
   "execution_count": 48,
   "metadata": {},
   "outputs": [
    {
     "data": {
      "text/plain": [
       "array([1.88745281e-12, 1.60251948e-12])"
      ]
     },
     "execution_count": 48,
     "metadata": {},
     "output_type": "execute_result"
    }
   ],
   "source": [
    "prediction = class_priors1 * x[0] * x[1] * x[2] * x[3] * x[4] * x[5] * x[6] * x[7]\n",
    "prediction"
   ]
  },
  {
   "cell_type": "code",
   "execution_count": 49,
   "metadata": {},
   "outputs": [],
   "source": [
    "evidence = np.sum(prediction)\n",
    "posterior = prediction/evidence"
   ]
  },
  {
   "cell_type": "code",
   "execution_count": 50,
   "metadata": {},
   "outputs": [
    {
     "data": {
      "text/plain": [
       "array([0.54082172, 0.45917828])"
      ]
     },
     "execution_count": 50,
     "metadata": {},
     "output_type": "execute_result"
    }
   ],
   "source": [
    "posterior"
   ]
  },
  {
   "cell_type": "code",
   "execution_count": 51,
   "metadata": {},
   "outputs": [
    {
     "data": {
      "text/plain": [
       "1.0"
      ]
     },
     "execution_count": 51,
     "metadata": {},
     "output_type": "execute_result"
    }
   ],
   "source": [
    "np.sum(posterior)"
   ]
  },
  {
   "cell_type": "code",
   "execution_count": 52,
   "metadata": {},
   "outputs": [
    {
     "name": "stdout",
     "output_type": "stream",
     "text": [
      "The Naive Bayes predicts Class: 0\n"
     ]
    }
   ],
   "source": [
    "print ('The Naive Bayes predicts Class:', np.argmax(posterior))"
   ]
  },
  {
   "cell_type": "code",
   "execution_count": 40,
   "metadata": {},
   "outputs": [
    {
     "name": "stdout",
     "output_type": "stream",
     "text": [
      "[[0.12053685551729736, 0.07952297265175652], [0.011395501585793024, 0.0034460886728808243], [0.02174559385077148, 0.017893184296927604], [0.026785905865139115, 0.022396548656612683], [0.003962970765552323, 0.0026931705281238406], [0.04960156026825042, 0.033868053179896745], [1.3272990643114604, 0.9873682395290071], [0.0329378028073212, 0.02584500039193894]]\n"
     ]
    }
   ],
   "source": [
    "x = []\n",
    "for i in range(0,8):\n",
    "    l = get_likelihood(769, diabetes.columns[i])\n",
    "    x.append([l[0], l[1]])\n",
    "print(x)"
   ]
  },
  {
   "cell_type": "code",
   "execution_count": 41,
   "metadata": {},
   "outputs": [
    {
     "data": {
      "text/plain": [
       "array([3.43779945e-12, 1.27810806e-13])"
      ]
     },
     "execution_count": 41,
     "metadata": {},
     "output_type": "execute_result"
    }
   ],
   "source": [
    "prediction = class_priors1 * x[0] * x[1] * x[2] * x[3] * x[4] * x[5] * x[6] * x[7]\n",
    "prediction"
   ]
  },
  {
   "cell_type": "code",
   "execution_count": 42,
   "metadata": {},
   "outputs": [],
   "source": [
    "evidence = np.sum(prediction)\n",
    "posterior = prediction/evidence"
   ]
  },
  {
   "cell_type": "code",
   "execution_count": 43,
   "metadata": {},
   "outputs": [
    {
     "data": {
      "text/plain": [
       "array([0.96415458, 0.03584542])"
      ]
     },
     "execution_count": 43,
     "metadata": {},
     "output_type": "execute_result"
    }
   ],
   "source": [
    "posterior"
   ]
  },
  {
   "cell_type": "code",
   "execution_count": 44,
   "metadata": {},
   "outputs": [
    {
     "data": {
      "text/plain": [
       "1.0"
      ]
     },
     "execution_count": 44,
     "metadata": {},
     "output_type": "execute_result"
    }
   ],
   "source": [
    "np.sum(posterior)"
   ]
  },
  {
   "cell_type": "code",
   "execution_count": 45,
   "metadata": {},
   "outputs": [
    {
     "name": "stdout",
     "output_type": "stream",
     "text": [
      "The Naive Bayes predicts Class: 0\n"
     ]
    }
   ],
   "source": [
    "print ('The Naive Bayes predicts Class:', np.argmax(posterior))"
   ]
  },
  {
   "cell_type": "code",
   "execution_count": null,
   "metadata": {},
   "outputs": [],
   "source": []
  },
  {
   "cell_type": "markdown",
   "metadata": {},
   "source": [
    "## Summary \n",
    "\n",
    "In this lab, we looked at building a Naive Bayes classifier from scratch. This was not a complete machine learning experiment as we rather focused on the seeing how the algorithm performs in relation to underlying mathematics. NExt we shall look at how to achieve this functionality in SciKitLearn. "
   ]
  }
 ],
 "metadata": {
  "kernelspec": {
   "display_name": "Python 3",
   "language": "python",
   "name": "python3"
  },
  "language_info": {
   "codemirror_mode": {
    "name": "ipython",
    "version": 3
   },
   "file_extension": ".py",
   "mimetype": "text/x-python",
   "name": "python",
   "nbconvert_exporter": "python",
   "pygments_lexer": "ipython3",
   "version": "3.6.6"
  }
 },
 "nbformat": 4,
 "nbformat_minor": 1
}
